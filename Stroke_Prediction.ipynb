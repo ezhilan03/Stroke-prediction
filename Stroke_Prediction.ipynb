{
 "cells": [
  {
   "cell_type": "code",
   "execution_count": 1,
   "id": "055c890f-1477-454c-a99c-6a4ba4b4fdec",
   "metadata": {},
   "outputs": [
    {
     "name": "stderr",
     "output_type": "stream",
     "text": [
      "C:\\Users\\ezhil\\anaconda3\\Lib\\site-packages\\paramiko\\transport.py:219: CryptographyDeprecationWarning: Blowfish has been deprecated\n",
      "  \"class\": algorithms.Blowfish,\n"
     ]
    }
   ],
   "source": [
    "import numpy as np\n",
    "import pandas as pd\n",
    "import math\n",
    "import matplotlib.pyplot as plt\n",
    "import seaborn as sns\n",
    "import matplotlib.patches as mpatches\n",
    "import time\n",
    "import matplotlib.patches as mpatches\n",
    "import pickle\n",
    "import os\n",
    "import plotly.express as px\n",
    "import plotly.graph_objects as go\n",
    "import plotly.figure_factory as ff\n",
    "import collections\n",
    "import warnings\n",
    "warnings.filterwarnings(\"ignore\")"
   ]
  },
  {
   "cell_type": "code",
   "execution_count": 2,
   "id": "6c6f749d-4189-425d-9e78-942d3fc16a9d",
   "metadata": {},
   "outputs": [
    {
     "name": "stdout",
     "output_type": "stream",
     "text": [
      "      id  gender   age  hypertension  heart_disease ever_married  \\\n",
      "0   9046    Male  67.0             0              1          Yes   \n",
      "1  51676  Female  61.0             0              0          Yes   \n",
      "2  31112    Male  80.0             0              1          Yes   \n",
      "3  60182  Female  49.0             0              0          Yes   \n",
      "4   1665  Female  79.0             1              0          Yes   \n",
      "\n",
      "       work_type Residence_type  avg_glucose_level   bmi   smoking_status  \\\n",
      "0        Private          Urban             228.69  36.6  formerly smoked   \n",
      "1  Self-employed          Rural             202.21   NaN     never smoked   \n",
      "2        Private          Rural             105.92  32.5     never smoked   \n",
      "3        Private          Urban             171.23  34.4           smokes   \n",
      "4  Self-employed          Rural             174.12  24.0     never smoked   \n",
      "\n",
      "   stroke  \n",
      "0       1  \n",
      "1       1  \n",
      "2       1  \n",
      "3       1  \n",
      "4       1  \n"
     ]
    }
   ],
   "source": [
    "df = pd.read_csv('data.csv')\n",
    "\n",
    "print(df.head())"
   ]
  },
  {
   "cell_type": "code",
   "execution_count": 3,
   "id": "82560d0c-071b-422b-9c9c-536d9c843d5c",
   "metadata": {},
   "outputs": [
    {
     "name": "stdout",
     "output_type": "stream",
     "text": [
      "   gender   age  hypertension  heart_disease ever_married      work_type  \\\n",
      "0    Male  67.0             0              1          Yes        Private   \n",
      "1  Female  61.0             0              0          Yes  Self-employed   \n",
      "2    Male  80.0             0              1          Yes        Private   \n",
      "3  Female  49.0             0              0          Yes        Private   \n",
      "4  Female  79.0             1              0          Yes  Self-employed   \n",
      "\n",
      "  Residence_type  avg_glucose_level   bmi   smoking_status  stroke  \n",
      "0          Urban             228.69  36.6  formerly smoked       1  \n",
      "1          Rural             202.21   NaN     never smoked       1  \n",
      "2          Rural             105.92  32.5     never smoked       1  \n",
      "3          Urban             171.23  34.4           smokes       1  \n",
      "4          Rural             174.12  24.0     never smoked       1  \n"
     ]
    }
   ],
   "source": [
    "df.columns = df.columns.str.strip()\n",
    "df = df.drop(columns=['id'])\n",
    "print(df.head())"
   ]
  },
  {
   "cell_type": "code",
   "execution_count": 4,
   "id": "d55adf42-7437-49a7-87f6-9bfbdf6b1bd0",
   "metadata": {},
   "outputs": [
    {
     "name": "stdout",
     "output_type": "stream",
     "text": [
      "               age  hypertension  heart_disease  avg_glucose_level  \\\n",
      "count  5110.000000   5110.000000    5110.000000        5110.000000   \n",
      "mean     43.226614      0.097456       0.054012         106.147677   \n",
      "std      22.612647      0.296607       0.226063          45.283560   \n",
      "min       0.080000      0.000000       0.000000          55.120000   \n",
      "25%      25.000000      0.000000       0.000000          77.245000   \n",
      "50%      45.000000      0.000000       0.000000          91.885000   \n",
      "75%      61.000000      0.000000       0.000000         114.090000   \n",
      "max      82.000000      1.000000       1.000000         271.740000   \n",
      "\n",
      "               bmi       stroke  \n",
      "count  4909.000000  5110.000000  \n",
      "mean     28.893237     0.048728  \n",
      "std       7.854067     0.215320  \n",
      "min      10.300000     0.000000  \n",
      "25%      23.500000     0.000000  \n",
      "50%      28.100000     0.000000  \n",
      "75%      33.100000     0.000000  \n",
      "max      97.600000     1.000000  \n"
     ]
    }
   ],
   "source": [
    "print(df.describe())"
   ]
  },
  {
   "cell_type": "code",
   "execution_count": 5,
   "id": "deab0304-b9d9-4379-bd0e-a8a567e3b543",
   "metadata": {},
   "outputs": [
    {
     "name": "stdout",
     "output_type": "stream",
     "text": [
      "Female    2994\n",
      "Male      2115\n",
      "Other        1\n",
      "Name: gender, dtype: int64\n",
      "Yes    3353\n",
      "No     1757\n",
      "Name: ever_married, dtype: int64\n",
      "Private          2925\n",
      "Self-employed     819\n",
      "children          687\n",
      "Govt_job          657\n",
      "Never_worked       22\n",
      "Name: work_type, dtype: int64\n",
      "Urban    2596\n",
      "Rural    2514\n",
      "Name: Residence_type, dtype: int64\n",
      "never smoked       1892\n",
      "Unknown            1544\n",
      "formerly smoked     885\n",
      "smokes              789\n",
      "Name: smoking_status, dtype: int64\n",
      "0    4861\n",
      "1     249\n",
      "Name: stroke, dtype: int64\n",
      "0    4612\n",
      "1     498\n",
      "Name: hypertension, dtype: int64\n",
      "0    4834\n",
      "1     276\n",
      "Name: heart_disease, dtype: int64\n"
     ]
    }
   ],
   "source": [
    "print(df['gender'].value_counts())\n",
    "print(df['ever_married'].value_counts())\n",
    "print(df['work_type'].value_counts())\n",
    "print(df['Residence_type'].value_counts())\n",
    "print(df['smoking_status'].value_counts())\n",
    "print(df['stroke'].value_counts())\n",
    "print(df['hypertension'].value_counts())\n",
    "print(df['heart_disease'].value_counts())"
   ]
  },
  {
   "cell_type": "code",
   "execution_count": 6,
   "id": "fd7dab93-f3c3-4385-8b1e-96400cba8025",
   "metadata": {},
   "outputs": [
    {
     "name": "stdout",
     "output_type": "stream",
     "text": [
      "<class 'pandas.core.frame.DataFrame'>\n",
      "RangeIndex: 5110 entries, 0 to 5109\n",
      "Data columns (total 11 columns):\n",
      " #   Column             Non-Null Count  Dtype  \n",
      "---  ------             --------------  -----  \n",
      " 0   gender             5110 non-null   object \n",
      " 1   age                5110 non-null   float64\n",
      " 2   hypertension       5110 non-null   int64  \n",
      " 3   heart_disease      5110 non-null   int64  \n",
      " 4   ever_married       5110 non-null   object \n",
      " 5   work_type          5110 non-null   object \n",
      " 6   Residence_type     5110 non-null   object \n",
      " 7   avg_glucose_level  5110 non-null   float64\n",
      " 8   bmi                4909 non-null   float64\n",
      " 9   smoking_status     5110 non-null   object \n",
      " 10  stroke             5110 non-null   int64  \n",
      "dtypes: float64(3), int64(3), object(5)\n",
      "memory usage: 439.3+ KB\n"
     ]
    }
   ],
   "source": [
    "df.info()"
   ]
  },
  {
   "cell_type": "code",
   "execution_count": 7,
   "id": "0870dd70-91ec-433f-b56e-c0791e63a707",
   "metadata": {},
   "outputs": [
    {
     "name": "stdout",
     "output_type": "stream",
     "text": [
      "      gender   age  hypertension  heart_disease ever_married      work_type  \\\n",
      "0       Male  67.0           0.0            1.0          Yes        Private   \n",
      "1     Female  61.0           0.0            0.0          Yes  Self-employed   \n",
      "2       Male  80.0           0.0            1.0          Yes        Private   \n",
      "3     Female  49.0           0.0            0.0          Yes        Private   \n",
      "4     Female  79.0           1.0            0.0          Yes  Self-employed   \n",
      "...      ...   ...           ...            ...          ...            ...   \n",
      "5105  Female  80.0           1.0            0.0          Yes        Private   \n",
      "5106  Female  81.0           0.0            0.0          Yes  Self-employed   \n",
      "5107  Female  35.0           0.0            0.0          Yes  Self-employed   \n",
      "5108    Male  51.0           0.0            0.0          Yes        Private   \n",
      "5109  Female  44.0           0.0            0.0          Yes       Govt_job   \n",
      "\n",
      "     Residence_type  avg_glucose_level   bmi   smoking_status  stroke  \n",
      "0             Urban             228.69  36.6  formerly smoked     1.0  \n",
      "1             Rural             202.21   NaN     never smoked     1.0  \n",
      "2             Rural             105.92  32.5     never smoked     1.0  \n",
      "3             Urban             171.23  34.4           smokes     1.0  \n",
      "4             Rural             174.12  24.0     never smoked     1.0  \n",
      "...             ...                ...   ...              ...     ...  \n",
      "5105          Urban              83.75   NaN     never smoked     0.0  \n",
      "5106          Urban             125.20  40.0     never smoked     0.0  \n",
      "5107          Rural              82.99  30.6     never smoked     0.0  \n",
      "5108          Rural             166.29  25.6  formerly smoked     0.0  \n",
      "5109          Urban              85.28  26.2          Unknown     0.0  \n",
      "\n",
      "[5110 rows x 11 columns]\n"
     ]
    }
   ],
   "source": [
    "# Identify numerical columns\n",
    "numerical_columns = df.select_dtypes(include=['int', 'float']).columns\n",
    "\n",
    "# Convert numerical columns to float\n",
    "df[numerical_columns] = df[numerical_columns].astype(float)\n",
    "\n",
    "# Display the result\n",
    "print(df)"
   ]
  },
  {
   "cell_type": "code",
   "execution_count": 8,
   "id": "f6124654-cb16-4162-8e8b-4186a90df743",
   "metadata": {},
   "outputs": [
    {
     "data": {
      "text/plain": [
       "gender                object\n",
       "age                  float64\n",
       "hypertension         float64\n",
       "heart_disease        float64\n",
       "ever_married          object\n",
       "work_type             object\n",
       "Residence_type        object\n",
       "avg_glucose_level    float64\n",
       "bmi                  float64\n",
       "smoking_status        object\n",
       "stroke               float64\n",
       "dtype: object"
      ]
     },
     "execution_count": 8,
     "metadata": {},
     "output_type": "execute_result"
    }
   ],
   "source": [
    "df.dtypes"
   ]
  },
  {
   "cell_type": "code",
   "execution_count": 9,
   "id": "b91d72af-fd5f-4751-9085-b3da8adda94a",
   "metadata": {},
   "outputs": [
    {
     "data": {
      "text/plain": [
       "gender                 0\n",
       "age                    0\n",
       "hypertension           0\n",
       "heart_disease          0\n",
       "ever_married           0\n",
       "work_type              0\n",
       "Residence_type         0\n",
       "avg_glucose_level      0\n",
       "bmi                  201\n",
       "smoking_status         0\n",
       "stroke                 0\n",
       "dtype: int64"
      ]
     },
     "execution_count": 9,
     "metadata": {},
     "output_type": "execute_result"
    }
   ],
   "source": [
    "df.isnull().sum()"
   ]
  },
  {
   "cell_type": "code",
   "execution_count": 10,
   "id": "e53f9fdf-8f68-4921-80a1-246fbb4671b3",
   "metadata": {},
   "outputs": [
    {
     "name": "stdout",
     "output_type": "stream",
     "text": [
      "Best Hyperparameters: {'imputer__n_neighbors': 2, 'imputer__weights': 'uniform'}\n",
      "   gender   age  hypertension  heart_disease ever_married      work_type  \\\n",
      "0    Male  67.0           0.0            1.0          Yes        Private   \n",
      "1  Female  61.0           0.0            0.0          Yes  Self-employed   \n",
      "2    Male  80.0           0.0            1.0          Yes        Private   \n",
      "3  Female  49.0           0.0            0.0          Yes        Private   \n",
      "4  Female  79.0           1.0            0.0          Yes  Self-employed   \n",
      "\n",
      "  Residence_type  avg_glucose_level        bmi   smoking_status  stroke  \n",
      "0          Urban             228.69  36.600000  formerly smoked     1.0  \n",
      "1          Rural             202.21  28.893237     never smoked     1.0  \n",
      "2          Rural             105.92  32.500000     never smoked     1.0  \n",
      "3          Urban             171.23  34.400000           smokes     1.0  \n",
      "4          Rural             174.12  24.000000     never smoked     1.0  \n"
     ]
    }
   ],
   "source": [
    "from sklearn.impute import KNNImputer\n",
    "from sklearn.model_selection import GridSearchCV\n",
    "from sklearn.pipeline import Pipeline\n",
    "from sklearn.metrics import make_scorer\n",
    "import pandas as pd\n",
    "\n",
    "# Create a DataFrame with only the 'bmi' column\n",
    "df_bmi = df[['bmi']]\n",
    "\n",
    "pipeline = Pipeline([\n",
    "    ('imputer', KNNImputer())\n",
    "])\n",
    "\n",
    "# Define hyperparameters and their possible values\n",
    "param_grid = {\n",
    "    'imputer__n_neighbors': [2, 3, 5, 7, 9, 11, 13],\n",
    "    'imputer__weights': ['uniform', 'distance'],\n",
    "}\n",
    "\n",
    "# Define a custom scoring function for GridSearchCV\n",
    "def custom_scorer(estimator, X, y):\n",
    "    try:\n",
    "        y_pred = estimator.named_steps['imputer'].predict(X)\n",
    "    except AttributeError:\n",
    "        y_pred = estimator.named_steps['imputer'].transform(X)\n",
    "    mse = ((y_pred - y) ** 2).mean()\n",
    "    return -mse\n",
    "\n",
    "# Use GridSearchCV with the custom scoring function\n",
    "grid_search = GridSearchCV(pipeline, param_grid=param_grid, cv=5, scoring=make_scorer(custom_scorer))\n",
    "grid_search.fit(df_bmi.dropna(), df_bmi.dropna())\n",
    "\n",
    "# Get the best parameters\n",
    "best_params = grid_search.best_params_\n",
    "\n",
    "# Impute missing values in the 'bmi' column using the best model\n",
    "best_imputer = grid_search.best_estimator_\n",
    "df_bmi_imputed = pd.DataFrame(best_imputer.named_steps['imputer'].transform(df_bmi), columns=['bmi'])\n",
    "\n",
    "# Update the 'bmi' column in the original DataFrame with imputed values\n",
    "df['bmi'] = df_bmi_imputed['bmi']\n",
    "\n",
    "# Display the result\n",
    "print(\"Best Hyperparameters:\", best_params)\n",
    "print(df.head())"
   ]
  },
  {
   "cell_type": "code",
   "execution_count": 11,
   "id": "34d0e0e2-6d83-457f-968c-5947ec704f9f",
   "metadata": {},
   "outputs": [
    {
     "data": {
      "text/plain": [
       "0"
      ]
     },
     "execution_count": 11,
     "metadata": {},
     "output_type": "execute_result"
    }
   ],
   "source": [
    "df['bmi'].isnull().sum()"
   ]
  },
  {
   "cell_type": "code",
   "execution_count": 12,
   "id": "76973f18-7dcb-4e08-ad80-fc7f6969dfa0",
   "metadata": {},
   "outputs": [
    {
     "name": "stdout",
     "output_type": "stream",
     "text": [
      "               age  hypertension  heart_disease  avg_glucose_level  \\\n",
      "count  5110.000000   5110.000000    5110.000000        5110.000000   \n",
      "mean     43.226614      0.097456       0.054012         106.147677   \n",
      "std      22.612647      0.296607       0.226063          45.283560   \n",
      "min       0.080000      0.000000       0.000000          55.120000   \n",
      "25%      25.000000      0.000000       0.000000          77.245000   \n",
      "50%      45.000000      0.000000       0.000000          91.885000   \n",
      "75%      61.000000      0.000000       0.000000         114.090000   \n",
      "max      82.000000      1.000000       1.000000         271.740000   \n",
      "\n",
      "               bmi       stroke  \n",
      "count  5110.000000  5110.000000  \n",
      "mean     28.893237     0.048728  \n",
      "std       7.698018     0.215320  \n",
      "min      10.300000     0.000000  \n",
      "25%      23.800000     0.000000  \n",
      "50%      28.400000     0.000000  \n",
      "75%      32.800000     0.000000  \n",
      "max      97.600000     1.000000  \n"
     ]
    }
   ],
   "source": [
    "print(df.describe())"
   ]
  },
  {
   "cell_type": "code",
   "execution_count": 13,
   "id": "9cbb90a5-2222-47d4-bbce-d9727b81da84",
   "metadata": {},
   "outputs": [
    {
     "data": {
      "text/plain": [
       "<Figure size 800x500 with 0 Axes>"
      ]
     },
     "metadata": {},
     "output_type": "display_data"
    },
    {
     "data": {
      "image/png": "[encoded data removed]",
      "text/plain": [
       "<Figure size 500x500 with 1 Axes>"
      ]
     },
     "metadata": {},
     "output_type": "display_data"
    },
    {
     "data": {
      "text/plain": [
       "<Figure size 800x500 with 0 Axes>"
      ]
     },
     "metadata": {},
     "output_type": "display_data"
    },
    {
     "data": {
      "image/png": "[encoded data removed]",
      "text/plain": [
       "<Figure size 500x500 with 1 Axes>"
      ]
     },
     "metadata": {},
     "output_type": "display_data"
    },
    {
     "data": {
      "text/plain": [
       "<Figure size 800x500 with 0 Axes>"
      ]
     },
     "metadata": {},
     "output_type": "display_data"
    },
    {
     "data": {
      "image/png": "[encoded data removed]",
      "text/plain": [
       "<Figure size 500x500 with 1 Axes>"
      ]
     },
     "metadata": {},
     "output_type": "display_data"
    },
    {
     "data": {
      "text/plain": [
       "<Figure size 800x500 with 0 Axes>"
      ]
     },
     "metadata": {},
     "output_type": "display_data"
    },
    {
     "data": {
      "image/png": "[encoded data removed]",
      "text/plain": [
       "<Figure size 500x500 with 1 Axes>"
      ]
     },
     "metadata": {},
     "output_type": "display_data"
    },
    {
     "data": {
      "text/plain": [
       "<Figure size 800x500 with 0 Axes>"
      ]
     },
     "metadata": {},
     "output_type": "display_data"
    },
    {
     "data": {
      "image/png": "[encoded data removed]",
      "text/plain": [
       "<Figure size 500x500 with 1 Axes>"
      ]
     },
     "metadata": {},
     "output_type": "display_data"
    },
    {
     "data": {
      "text/plain": [
       "<Figure size 800x500 with 0 Axes>"
      ]
     },
     "metadata": {},
     "output_type": "display_data"
    },
    {
     "data": {
      "image/png": "[encoded data removed]",
      "text/plain": [
       "<Figure size 500x500 with 1 Axes>"
      ]
     },
     "metadata": {},
     "output_type": "display_data"
    }
   ],
   "source": [
    "import seaborn as sns\n",
    "import matplotlib.pyplot as plt\n",
    "\n",
    "# Assuming df is your DataFrame\n",
    "\n",
    "# Plot the distribution of each numeric column\n",
    "numeric_cols = df.select_dtypes(include=['float64', 'int64']).columns\n",
    "for col in numeric_cols:\n",
    "    plt.figure(figsize=(8, 5))\n",
    "    sns.displot(df[col], kde=True, color='blue')\n",
    "    plt.title(f'Distribution of {col}')\n",
    "    plt.show()"
   ]
  },
  {
   "cell_type": "code",
   "execution_count": 14,
   "id": "4f7f53af",
   "metadata": {},
   "outputs": [
    {
     "name": "stdout",
     "output_type": "stream",
     "text": [
      "Skewness values:\n",
      "age                 -0.137019\n",
      "avg_glucose_level    1.571822\n",
      "bmi                  1.076400\n",
      "dtype: float64\n"
     ]
    }
   ],
   "source": [
    "import pandas as pd\n",
    "from scipy.stats import skew\n",
    "\n",
    "# Select the columns of interest\n",
    "Col_Int2 = ['age', 'avg_glucose_level', 'bmi']\n",
    "\n",
    "# Calculate skewness for each selected column\n",
    "skewness_values = df[Col_Int2].apply(lambda x: skew(x, nan_policy='omit'))\n",
    "\n",
    "# Print the skewness values\n",
    "print(\"Skewness values:\")\n",
    "print(skewness_values)"
   ]
  },
  {
   "cell_type": "code",
   "execution_count": 17,
   "id": "0d04bf73-12d2-493e-8c44-e14f836a3a34",
   "metadata": {},
   "outputs": [
    {
     "name": "stdout",
     "output_type": "stream",
     "text": [
      "Skewness values:\n",
      "hypertension     2.714595\n",
      "heart_disease    3.946085\n",
      "dtype: float64\n"
     ]
    }
   ],
   "source": [
    "import pandas as pd\n",
    "from scipy.stats import skew\n",
    "\n",
    "# Select the columns of interest\n",
    "Col_Int = ['hypertension', 'heart_disease']\n",
    "\n",
    "# Calculate skewness for each selected column\n",
    "skewness_values = df[Col_Int].apply(lambda x: skew(x, nan_policy='omit'))\n",
    "\n",
    "# Print the skewness values\n",
    "print(\"Skewness values:\")\n",
    "print(skewness_values)"
   ]
  },
  {
   "cell_type": "code",
   "execution_count": 18,
   "id": "555edb03-9b3e-47ba-9ead-a6accb63adcd",
   "metadata": {},
   "outputs": [
    {
     "name": "stdout",
     "output_type": "stream",
     "text": [
      "Skewness values after log transformation:\n",
      "avg_glucose_level    0.889209\n",
      "bmi                  0.017160\n",
      "dtype: float64\n"
     ]
    }
   ],
   "source": [
    "import numpy as np\n",
    "from scipy.stats import skew\n",
    "\n",
    "# Select the columns of interest\n",
    "log_transform_columns = ['avg_glucose_level', 'bmi']\n",
    "\n",
    "# Apply log transformation\n",
    "df[log_transform_columns] = np.log1p(df[log_transform_columns])\n",
    "\n",
    "# Check skewness after log transformation\n",
    "skewness_values_log = df[log_transform_columns].apply(lambda x: skew(x, nan_policy='omit'))\n",
    "\n",
    "# Print the skewness values after log transformation\n",
    "print(\"Skewness values after log transformation:\")\n",
    "print(skewness_values_log)"
   ]
  },
  {
   "cell_type": "code",
   "execution_count": 19,
   "id": "ef4b5b47-e0f5-4c93-99ee-cade61bafe78",
   "metadata": {
    "scrolled": true
   },
   "outputs": [
    {
     "name": "stdout",
     "output_type": "stream",
     "text": [
      "DataFrame after log transformation:\n",
      "      gender       age  hypertension  heart_disease ever_married  \\\n",
      "0       Male  0.827828           0.0            1.0          Yes   \n",
      "1     Female  0.752252           0.0            0.0          Yes   \n",
      "2       Male  0.970470           0.0            1.0          Yes   \n",
      "3     Female  0.559560           0.0            0.0          Yes   \n",
      "4     Female  0.955455           1.0            0.0          Yes   \n",
      "...      ...       ...           ...            ...          ...   \n",
      "5105  Female  0.970470           1.0            0.0          Yes   \n",
      "5106  Female  0.983483           0.0            0.0          Yes   \n",
      "5107  Female  0.366366           0.0            0.0          Yes   \n",
      "5108    Male  0.592092           0.0            0.0          Yes   \n",
      "5109  Female  0.488488           0.0            0.0          Yes   \n",
      "\n",
      "          work_type Residence_type  avg_glucose_level       bmi  \\\n",
      "0           Private          Urban           1.862021  1.531910   \n",
      "1     Self-employed          Rural           1.842807  1.481066   \n",
      "2           Private          Rural           1.735556  1.506640   \n",
      "3           Private          Urban           1.816262  1.518793   \n",
      "4     Self-employed          Rural           1.818965  1.439569   \n",
      "...             ...            ...                ...       ...   \n",
      "5105        Private          Urban           1.693725  1.481066   \n",
      "5106  Self-employed          Urban           1.764366  1.550446   \n",
      "5107  Self-employed          Rural           1.692068  1.493613   \n",
      "5108        Private          Rural           1.811518  1.454166   \n",
      "5109       Govt_job          Urban           1.697009  1.459363   \n",
      "\n",
      "       smoking_status  stroke  \n",
      "0     formerly smoked     1.0  \n",
      "1        never smoked     1.0  \n",
      "2        never smoked     1.0  \n",
      "3              smokes     1.0  \n",
      "4        never smoked     1.0  \n",
      "...               ...     ...  \n",
      "5105     never smoked     0.0  \n",
      "5106     never smoked     0.0  \n",
      "5107     never smoked     0.0  \n",
      "5108  formerly smoked     0.0  \n",
      "5109          Unknown     0.0  \n",
      "\n",
      "[5110 rows x 11 columns]\n"
     ]
    }
   ],
   "source": [
    "# Replace the original columns with the log-transformed columns\n",
    "df[log_transform_columns] = np.log1p(df[log_transform_columns])\n",
    "\n",
    "# Print the DataFrame after log transformation\n",
    "print(\"DataFrame after log transformation:\")\n",
    "print(df)"
   ]
  },
  {
   "cell_type": "markdown",
   "id": "75a667aa",
   "metadata": {},
   "source": [
    "pip install category_encoders"
   ]
  },
  {
   "cell_type": "code",
   "execution_count": 20,
   "id": "73a975cd",
   "metadata": {},
   "outputs": [
    {
     "name": "stdout",
     "output_type": "stream",
     "text": [
      "        gender       age  hypertension  heart_disease  ever_married  \\\n",
      "0     0.051064  0.827828           0.0            1.0      0.065613   \n",
      "1     0.047094  0.752252           0.0            0.0      0.065613   \n",
      "2     0.051064  0.970470           0.0            1.0      0.065613   \n",
      "3     0.047094  0.559560           0.0            0.0      0.065613   \n",
      "4     0.047094  0.955455           1.0            0.0      0.065613   \n",
      "...        ...       ...           ...            ...           ...   \n",
      "5105  0.047094  0.970470           1.0            0.0      0.065613   \n",
      "5106  0.047094  0.983483           0.0            0.0      0.065613   \n",
      "5107  0.047094  0.366366           0.0            0.0      0.065613   \n",
      "5108  0.051064  0.592092           0.0            0.0      0.065613   \n",
      "5109  0.047094  0.488488           0.0            0.0      0.065613   \n",
      "\n",
      "      work_type  Residence_type  avg_glucose_level       bmi  smoking_status  \\\n",
      "0      0.050940        0.052003           1.862021  1.531910        0.079096   \n",
      "1      0.079365        0.045346           1.842807  1.481066        0.047569   \n",
      "2      0.050940        0.045346           1.735556  1.506640        0.047569   \n",
      "3      0.050940        0.052003           1.816262  1.518793        0.053232   \n",
      "4      0.079365        0.045346           1.818965  1.439569        0.047569   \n",
      "...         ...             ...                ...       ...             ...   \n",
      "5105   0.050940        0.052003           1.693725  1.481066        0.047569   \n",
      "5106   0.079365        0.052003           1.764366  1.550446        0.047569   \n",
      "5107   0.079365        0.045346           1.692068  1.493613        0.047569   \n",
      "5108   0.050940        0.045346           1.811518  1.454166        0.079096   \n",
      "5109   0.050228        0.052003           1.697009  1.459363        0.030440   \n",
      "\n",
      "      stroke  \n",
      "0        1.0  \n",
      "1        1.0  \n",
      "2        1.0  \n",
      "3        1.0  \n",
      "4        1.0  \n",
      "...      ...  \n",
      "5105     0.0  \n",
      "5106     0.0  \n",
      "5107     0.0  \n",
      "5108     0.0  \n",
      "5109     0.0  \n",
      "\n",
      "[5110 rows x 11 columns]\n"
     ]
    }
   ],
   "source": [
    "import pandas as pd\n",
    "from category_encoders import TargetEncoder  # Assuming you have category_encoders installed\n",
    "\n",
    "# Assuming df is your DataFrame and categorical_columns contains the categorical column names\n",
    "categorical_columns = ['gender', 'ever_married', 'work_type', 'Residence_type', 'smoking_status']  # Example columns\n",
    "\n",
    "# Initializing the TargetEncoder\n",
    "target_encoder = TargetEncoder()\n",
    "\n",
    "# Copying the DataFrame to avoid changes in the original data\n",
    "df_encoded = df.copy()\n",
    "\n",
    "# Encoding categorical columns\n",
    "for column in categorical_columns:\n",
    "    df_encoded[column] = target_encoder.fit_transform(df[column], df['stroke'])\n",
    "\n",
    "# Display the encoded DataFrame\n",
    "print(df_encoded)"
   ]
  },
  {
   "cell_type": "code",
   "execution_count": 22,
   "id": "56b9dd6c",
   "metadata": {},
   "outputs": [
    {
     "name": "stdout",
     "output_type": "stream",
     "text": [
      "X_train shape: (4088, 10)\n",
      "X_test shape: (1022, 10)\n",
      "y_train shape: (4088,)\n",
      "y_test shape: (1022,)\n"
     ]
    }
   ],
   "source": [
    "from sklearn.model_selection import train_test_split\n",
    "\n",
    "# Assuming df_encoded is your DataFrame and 'stroke' is your target variable\n",
    "X = df_encoded.drop('stroke', axis=1)  # Features (excluding the target variable)\n",
    "y = df_encoded['stroke']  # Target variable\n",
    "\n",
    "# Splitting the data into training and testing sets (80% train, 20% test)\n",
    "X_train, X_test, y_train, y_test = train_test_split(X, y, test_size=0.2, random_state=42)\n",
    "\n",
    "# Displaying the shapes of the resulting sets (optional)\n",
    "print(\"X_train shape:\", X_train.shape)\n",
    "print(\"X_test shape:\", X_test.shape)\n",
    "print(\"y_train shape:\", y_train.shape)\n",
    "print(\"y_test shape:\", y_test.shape)"
   ]
  },
  {
   "cell_type": "code",
   "execution_count": 23,
   "id": "628bf2d4",
   "metadata": {},
   "outputs": [
    {
     "name": "stdout",
     "output_type": "stream",
     "text": [
      "Accuracy: 0.9393346379647749\n",
      "Precision: 0.0\n",
      "Recall: 0.0\n",
      "F1 Score: 0.0\n",
      "ROC-AUC Score: 0.5\n"
     ]
    },
    {
     "data": {
      "image/png": "[encoded data removed]",
      "text/plain": [
       "<Figure size 800x600 with 1 Axes>"
      ]
     },
     "metadata": {},
     "output_type": "display_data"
    }
   ],
   "source": [
    "from sklearn.ensemble import RandomForestClassifier\n",
    "from sklearn.metrics import accuracy_score, precision_score, recall_score, f1_score, roc_auc_score, confusion_matrix\n",
    "from sklearn.model_selection import cross_val_predict\n",
    "import matplotlib.pyplot as plt\n",
    "import seaborn as sns\n",
    "\n",
    "# Assuming you've already split the data into X_train, X_test, y_train, y_test\n",
    "\n",
    "# Initialize Random Forest Classifier\n",
    "rf_classifier = RandomForestClassifier(n_estimators=100, random_state=42)\n",
    "\n",
    "# Fit the classifier on the training data\n",
    "rf_classifier.fit(X_train, y_train)\n",
    "\n",
    "# Predict on the test set\n",
    "y_pred = rf_classifier.predict(X_test)\n",
    "\n",
    "# Calculate various evaluation metrics\n",
    "accuracy = accuracy_score(y_test, y_pred)\n",
    "precision = precision_score(y_test, y_pred)\n",
    "recall = recall_score(y_test, y_pred)\n",
    "f1 = f1_score(y_test, y_pred)\n",
    "roc_auc = roc_auc_score(y_test, y_pred)\n",
    "\n",
    "print(\"Accuracy:\", accuracy)\n",
    "print(\"Precision:\", precision)\n",
    "print(\"Recall:\", recall)\n",
    "print(\"F1 Score:\", f1)\n",
    "print(\"ROC-AUC Score:\", roc_auc)\n",
    "\n",
    "# Confusion Matrix\n",
    "conf_matrix = confusion_matrix(y_test, y_pred)\n",
    "plt.figure(figsize=(8, 6))\n",
    "sns.heatmap(conf_matrix, annot=True, cmap='Blues', fmt='g', cbar=False)\n",
    "plt.xlabel('Predicted')\n",
    "plt.ylabel('True')\n",
    "plt.title('Confusion Matrix')\n",
    "plt.show()"
   ]
  },
  {
   "cell_type": "markdown",
   "id": "9ef38ed1",
   "metadata": {},
   "source": [
    "## Feature Engineering"
   ]
  },
  {
   "cell_type": "code",
   "execution_count": 24,
   "id": "a6a95749",
   "metadata": {},
   "outputs": [
    {
     "name": "stdout",
     "output_type": "stream",
     "text": [
      "        gender       age  hypertension  heart_disease  ever_married  \\\n",
      "0     0.051064  0.827828           0.0            1.0      0.065613   \n",
      "1     0.047094  0.752252           0.0            0.0      0.065613   \n",
      "2     0.051064  0.970470           0.0            1.0      0.065613   \n",
      "3     0.047094  0.559560           0.0            0.0      0.065613   \n",
      "4     0.047094  0.955455           1.0            0.0      0.065613   \n",
      "...        ...       ...           ...            ...           ...   \n",
      "5105  0.047094  0.970470           1.0            0.0      0.065613   \n",
      "5106  0.047094  0.983483           0.0            0.0      0.065613   \n",
      "5107  0.047094  0.366366           0.0            0.0      0.065613   \n",
      "5108  0.051064  0.592092           0.0            0.0      0.065613   \n",
      "5109  0.047094  0.488488           0.0            0.0      0.065613   \n",
      "\n",
      "      work_type  Residence_type  avg_glucose_level       bmi  smoking_status  \\\n",
      "0      0.050940        0.052003           1.862021  1.531910        0.079096   \n",
      "1      0.079365        0.045346           1.842807  1.481066        0.047569   \n",
      "2      0.050940        0.045346           1.735556  1.506640        0.047569   \n",
      "3      0.050940        0.052003           1.816262  1.518793        0.053232   \n",
      "4      0.079365        0.045346           1.818965  1.439569        0.047569   \n",
      "...         ...             ...                ...       ...             ...   \n",
      "5105   0.050940        0.052003           1.693725  1.481066        0.047569   \n",
      "5106   0.079365        0.052003           1.764366  1.550446        0.047569   \n",
      "5107   0.079365        0.045346           1.692068  1.493613        0.047569   \n",
      "5108   0.050940        0.045346           1.811518  1.454166        0.079096   \n",
      "5109   0.050228        0.052003           1.697009  1.459363        0.030440   \n",
      "\n",
      "      stroke  mean_stroke_by_hypertension_heart_disease  \n",
      "0        1.0                                   0.160377  \n",
      "1        1.0                                   0.033864  \n",
      "2        1.0                                   0.160377  \n",
      "3        1.0                                   0.033864  \n",
      "4        1.0                                   0.122120  \n",
      "...      ...                                        ...  \n",
      "5105     0.0                                   0.122120  \n",
      "5106     0.0                                   0.033864  \n",
      "5107     0.0                                   0.033864  \n",
      "5108     0.0                                   0.033864  \n",
      "5109     0.0                                   0.033864  \n",
      "\n",
      "[5110 rows x 12 columns]\n"
     ]
    }
   ],
   "source": [
    "# Grouping by 'hypertension' and 'heart_disease' columns and calculating mean of 'stroke' column\n",
    "grouped = df_encoded.groupby(['hypertension', 'heart_disease'])['stroke'].mean().reset_index()\n",
    "\n",
    "# Renaming the 'stroke' column to a more descriptive name\n",
    "grouped = grouped.rename(columns={'stroke': 'mean_stroke_by_hypertension_heart_disease'})\n",
    "\n",
    "# Merging the mean values back to the original DataFrame based on 'hypertension' and 'heart_disease' columns\n",
    "df_new = pd.merge(df_encoded, grouped, on=['hypertension', 'heart_disease'], how='left')\n",
    "\n",
    "# Display the updated DataFrame\n",
    "print(df_new)"
   ]
  },
  {
   "cell_type": "code",
   "execution_count": 25,
   "id": "0a2f7db7",
   "metadata": {},
   "outputs": [
    {
     "name": "stdout",
     "output_type": "stream",
     "text": [
      "     gender       age  ever_married  work_type  Residence_type  \\\n",
      "0  0.051064  0.827828      0.065613   0.050940        0.052003   \n",
      "1  0.047094  0.752252      0.065613   0.079365        0.045346   \n",
      "2  0.051064  0.970470      0.065613   0.050940        0.045346   \n",
      "3  0.047094  0.559560      0.065613   0.050940        0.052003   \n",
      "4  0.047094  0.955455      0.065613   0.079365        0.045346   \n",
      "\n",
      "   avg_glucose_level       bmi  smoking_status  stroke  \\\n",
      "0           1.862021  1.531910        0.079096     1.0   \n",
      "1           1.842807  1.481066        0.047569     1.0   \n",
      "2           1.735556  1.506640        0.047569     1.0   \n",
      "3           1.816262  1.518793        0.053232     1.0   \n",
      "4           1.818965  1.439569        0.047569     1.0   \n",
      "\n",
      "   mean_stroke_by_hypertension_heart_disease  \n",
      "0                                   0.160377  \n",
      "1                                   0.033864  \n",
      "2                                   0.160377  \n",
      "3                                   0.033864  \n",
      "4                                   0.122120  \n"
     ]
    }
   ],
   "source": [
    "# Drop multiple columns\n",
    "columns_to_drop = ['hypertension', 'heart_disease']\n",
    "df_new.drop(columns_to_drop, axis=1, inplace=True)\n",
    "print(df_new.head())"
   ]
  },
  {
   "cell_type": "markdown",
   "id": "11cedc9a",
   "metadata": {},
   "source": [
    "### Since this is a stroke prediction, I'm gonna give more importance to recall."
   ]
  },
  {
   "cell_type": "code",
   "execution_count": 26,
   "id": "384bc4e5",
   "metadata": {},
   "outputs": [
    {
     "name": "stdout",
     "output_type": "stream",
     "text": [
      "X_train shape: (4088, 9)\n",
      "X_test shape: (1022, 9)\n",
      "y_train shape: (4088,)\n",
      "y_test shape: (1022,)\n"
     ]
    }
   ],
   "source": [
    "from sklearn.model_selection import train_test_split\n",
    "\n",
    "# Assuming df_encoded is your DataFrame and 'stroke' is your target variable\n",
    "X = df_new.drop('stroke', axis=1)  # Features (excluding the target variable)\n",
    "y = df_new['stroke']  # Target variable\n",
    "\n",
    "# Splitting the data into training and testing sets (80% train, 20% test)\n",
    "X_train, X_test, y_train, y_test = train_test_split(X, y, test_size=0.2, random_state=42)\n",
    "\n",
    "# Displaying the shapes of the resulting sets (optional)\n",
    "print(\"X_train shape:\", X_train.shape)\n",
    "print(\"X_test shape:\", X_test.shape)\n",
    "print(\"y_train shape:\", y_train.shape)\n",
    "print(\"y_test shape:\", y_test.shape)"
   ]
  },
  {
   "cell_type": "code",
   "execution_count": 27,
   "id": "5fe5b96d",
   "metadata": {},
   "outputs": [
    {
     "name": "stdout",
     "output_type": "stream",
     "text": [
      "Fitting 5 folds for each of 36 candidates, totalling 180 fits\n",
      "Best Parameters: {'C': 0.1, 'class_weight': {0: 1, 1: 30}, 'gamma': 0.1}\n",
      "Accuracy: 0.8424657534246576\n",
      "Precision: 0.21052631578947367\n",
      "Recall: 0.5806451612903226\n",
      "F1 Score: 0.30901287553648066\n",
      "RoC-AuC: 0.8482358870967741\n",
      "Confusion Matrix:\n",
      "[[825 135]\n",
      " [ 26  36]]\n"
     ]
    }
   ],
   "source": [
    "from sklearn.svm import SVC\n",
    "from sklearn.model_selection import GridSearchCV\n",
    "from sklearn.metrics import accuracy_score, precision_score, recall_score, f1_score, roc_auc_score, confusion_matrix\n",
    "\n",
    "# Create SVM Classifier\n",
    "svm_classifier = SVC(random_state=42, probability=True)\n",
    "\n",
    "# Define the parameter grid for GridSearchCV\n",
    "param_grid = {\n",
    "    'C': [0.1, 1, 10, 100],\n",
    "    'gamma': [0.1, 1, 10],\n",
    "    'class_weight': ['balanced', {0: 1, 1: 20}, {0: 1, 1: 30}]  # Modify class weights as needed\n",
    "}\n",
    "\n",
    "# Perform GridSearchCV with recall as the scoring metric\n",
    "grid_search = GridSearchCV(estimator=svm_classifier, param_grid=param_grid, scoring='recall', cv=5, verbose=1, n_jobs=-1)\n",
    "\n",
    "# Fit the grid search to the data\n",
    "grid_search.fit(X_train, y_train)\n",
    "\n",
    "# Get the best parameters and best estimator\n",
    "best_params = grid_search.best_params_\n",
    "best_svm_classifier = grid_search.best_estimator_\n",
    "\n",
    "# Predict probabilities on the test set\n",
    "y_pred_proba = best_svm_classifier.predict_proba(X_test)\n",
    "\n",
    "best_recall = 0\n",
    "best_threshold = 0.5  # Initial threshold\n",
    "\n",
    "for threshold in np.arange(0.1, 1.0, 0.1):  # Explore thresholds from 0.1 to 0.9\n",
    "    y_pred_recall = (y_pred_proba[:, 1] > threshold).astype(int)\n",
    "    current_recall = recall_score(y_test, y_pred_recall)\n",
    "\n",
    "    # Keep track of the best recall and the corresponding threshold\n",
    "    if current_recall > best_recall:\n",
    "        best_recall = current_recall\n",
    "        best_threshold = threshold\n",
    "\n",
    "# Apply the best threshold\n",
    "y_pred_best_threshold = (y_pred_proba[:, 1] > best_threshold).astype(int)\n",
    "\n",
    "# Calculate metrics with the best threshold\n",
    "accuracy = accuracy_score(y_test, y_pred_best_threshold)\n",
    "precision = precision_score(y_test, y_pred_best_threshold)\n",
    "recall = recall_score(y_test, y_pred_best_threshold)\n",
    "f1 = f1_score(y_test, y_pred_best_threshold)\n",
    "roc_auc = roc_auc_score(y_test, y_pred_proba[:, 1])\n",
    "conf_matrix = confusion_matrix(y_test, y_pred_best_threshold)\n",
    "\n",
    "# Print the metrics\n",
    "print(f\"Best Parameters: {best_params}\")\n",
    "print(f\"Accuracy: {accuracy}\")\n",
    "print(f\"Precision: {precision}\")\n",
    "print(f\"Recall: {recall}\")\n",
    "print(f\"F1 Score: {f1}\")\n",
    "print(f\"RoC-AuC: {roc_auc}\")\n",
    "print(f\"Confusion Matrix:\\n{conf_matrix}\")"
   ]
  },
  {
   "cell_type": "code",
   "execution_count": 28,
   "id": "511f5fde-c9f0-452f-8d89-16d043913f21",
   "metadata": {},
   "outputs": [
    {
     "name": "stdout",
     "output_type": "stream",
     "text": [
      "Int64Index([4688, 4478, 3849, 4355, 3826, 3951, 3396,  465,  410, 1632,\n",
      "            ...\n",
      "             438, 3786, 1212, 3669, 3454, 3605, 4934, 4835, 4105, 2902],\n",
      "           dtype='int64', length=1022)\n"
     ]
    }
   ],
   "source": [
    "print(y_test.index)"
   ]
  },
  {
   "cell_type": "code",
   "execution_count": 29,
   "id": "1135f9cd",
   "metadata": {
    "scrolled": true
   },
   "outputs": [
    {
     "name": "stdout",
     "output_type": "stream",
     "text": [
      "Fitting 5 folds for each of 972 candidates, totalling 4860 fits\n",
      "\n",
      "XGBoost Model Metrics:\n",
      "Best Parameters: {'colsample_bytree': 1.0, 'gamma': 1, 'learning_rate': 0.2, 'max_depth': 3, 'min_child_weight': 5, 'n_estimators': 100, 'subsample': 1.0}\n",
      "Accuracy: 0.8542074363992173\n",
      "Precision: 0.23636363636363636\n",
      "Recall: 0.6290322580645161\n",
      "F1 Score: 0.3436123348017621\n",
      "RoC-AuC: 0.8551747311827956\n",
      "Confusion Matrix:\n",
      "[[834 126]\n",
      " [ 23  39]]\n"
     ]
    }
   ],
   "source": [
    "import numpy as np\n",
    "from sklearn.metrics import make_scorer\n",
    "from sklearn.ensemble import StackingClassifier, RandomForestClassifier, BaggingClassifier, AdaBoostClassifier\n",
    "from sklearn.svm import SVC\n",
    "from sklearn.tree import DecisionTreeClassifier\n",
    "from sklearn.naive_bayes import GaussianNB\n",
    "from sklearn.model_selection import train_test_split, GridSearchCV, cross_validate\n",
    "from sklearn.metrics import (\n",
    "    accuracy_score, precision_score, recall_score, f1_score,\n",
    "    roc_auc_score, average_precision_score, confusion_matrix, fbeta_score\n",
    ")\n",
    "from imblearn.ensemble import EasyEnsembleClassifier\n",
    "import xgboost as xgb\n",
    "\n",
    "# Define the rare event class \n",
    "rare_event_class = 1  \n",
    "\n",
    "def f_beta_loss(y_test, y_pred_proba):\n",
    "    beta = 2  # Adjust the beta value for emphasis on precision or recall\n",
    "    if len(y_pred_proba.shape) == 1:\n",
    "        y_pred = (y_pred_proba > 0.5).astype(int)\n",
    "    else:\n",
    "        y_pred = (y_pred_proba[:, 1] > 0.5).astype(int)\n",
    "    f_beta = fbeta_score(y_test, y_pred, beta=beta)\n",
    "    return 1 - f_beta  # Subtract from 1 to convert to a loss\n",
    "\n",
    "def weighted_loss(y_test, y_pred_proba):\n",
    "    weight_false_negatives = 15  # Adjust weight based on importance\n",
    "    weight_false_positives = 1  # Adjust weight based on importance\n",
    "    if len(y_pred_proba.shape) == 1:\n",
    "        y_pred = (y_pred_proba > 0.5).astype(int)\n",
    "    else:\n",
    "        y_pred = (y_pred_proba[:, 1] > 0.5).astype(int)\n",
    "    tn, fp, fn, _ = confusion_matrix(y_test, y_pred).ravel()\n",
    "    loss = (weight_false_negatives * fn) + (weight_false_positives * fp)\n",
    "    return loss\n",
    "\n",
    "def custom_loss(y_test, y_pred_proba):\n",
    "    penalty_rare_event = 200  # Adjust penalty based on the importance of the rare event\n",
    "    if len(y_pred_proba.shape) == 1:\n",
    "        y_pred = (y_pred_proba > 0.5).astype(int)\n",
    "    else:\n",
    "        y_pred = (y_pred_proba[:, 1] > 0.5).astype(int)\n",
    "    rare_event_indices = np.where(y_test == rare_event_class)[0]\n",
    "    loss = np.sum(np.abs(y_test - y_pred))\n",
    "    loss += penalty_rare_event * np.sum(np.abs(y_test[rare_event_indices] - y_pred[rare_event_indices]))\n",
    "    return loss\n",
    "\n",
    "\n",
    "def master_loss(y_true, y_pred_proba):\n",
    "    loss_f_beta = f_beta_loss(y_true, y_pred_proba)\n",
    "    loss_weighted = weighted_loss(y_true, y_pred_proba)\n",
    "    loss_custom = custom_loss(y_true, y_pred_proba)\n",
    "\n",
    "    # Adjust weights to balance contributions of different loss functions\n",
    "    weighted_master_loss = 0.8 * loss_f_beta + 0.5 * loss_weighted + 0.3 * loss_custom\n",
    "\n",
    "    return weighted_master_loss\n",
    "\n",
    "# Define XGBoost model with custom loss functions\n",
    "xgb_model = xgb.XGBClassifier(objective=\"binary:logistic\", eval_metric=\"logloss\", random_state=42)\n",
    "\n",
    "# Make a custom evaluation metric using the master loss\n",
    "xgb_model.eval_metric = make_scorer(master_loss, greater_is_better=False, needs_proba=True)\n",
    "\n",
    "# Define the parameter grid for GridSearchCV\n",
    "param_grid_xgb = {\n",
    "    'n_estimators': [50, 100, 200],\n",
    "    'learning_rate': [0.01, 0.1, 0.2],\n",
    "    'max_depth': [3, 5, 7],\n",
    "    'subsample': [0.8, 1.0],\n",
    "    'colsample_bytree': [0.8, 1.0],\n",
    "    'min_child_weight': [1, 3, 5],\n",
    "    'gamma': [0, 1, 5],\n",
    "}\n",
    "\n",
    "# Perform GridSearchCV with custom loss function as the scoring metric\n",
    "grid_search_xgb = GridSearchCV(estimator=xgb_model, param_grid=param_grid_xgb, scoring='neg_log_loss', cv=5, verbose=1, n_jobs=-1)\n",
    "\n",
    "# Fit the grid search to the data\n",
    "grid_search_xgb.fit(X_train, y_train)\n",
    "\n",
    "# Get the best parameters and best XGBoost model\n",
    "best_params_xgb = grid_search_xgb.best_params_\n",
    "best_xgb_model = grid_search_xgb.best_estimator_\n",
    "\n",
    "\n",
    "\n",
    "# Predict probabilities on the test set\n",
    "y_pred_proba_xgb = best_xgb_model.predict_proba(X_test)\n",
    "\n",
    "best_recall = 0\n",
    "best_threshold = 0.5  # Initial threshold\n",
    "\n",
    "for threshold in np.arange(0.1, 1.0, 0.1):  # Explore thresholds from 0.1 to 0.9\n",
    "    y_pred_recall = (y_pred_proba[:, 1] > threshold).astype(int)\n",
    "    current_recall = recall_score(y_test, y_pred_recall)\n",
    "\n",
    "    # Keep track of the best recall and the corresponding threshold\n",
    "    if current_recall > best_recall:\n",
    "        best_recall = current_recall\n",
    "        best_threshold = threshold\n",
    "\n",
    "# Apply the best threshold\n",
    "y_pred_best_threshold_xgb = (y_pred_proba_xgb[:, 1] > best_threshold).astype(int)\n",
    "\n",
    "# Calculate metrics with the best threshold for XGBoost\n",
    "accuracy_xgb = accuracy_score(y_test, y_pred_best_threshold_xgb)\n",
    "precision_xgb = precision_score(y_test, y_pred_best_threshold_xgb)\n",
    "recall_xgb = recall_score(y_test, y_pred_best_threshold_xgb)\n",
    "f1_xgb = f1_score(y_test, y_pred_best_threshold_xgb)\n",
    "roc_auc_xgb = roc_auc_score(y_test, y_pred_proba_xgb[:, 1])\n",
    "conf_matrix_xgb = confusion_matrix(y_test, y_pred_best_threshold_xgb)\n",
    "\n",
    "# Print the metrics for XGBoost\n",
    "print(\"\\nXGBoost Model Metrics:\")\n",
    "print(f\"Best Parameters: {best_params_xgb}\")\n",
    "print(f\"Accuracy: {accuracy_xgb}\")\n",
    "print(f\"Precision: {precision_xgb}\")\n",
    "print(f\"Recall: {recall_xgb}\")\n",
    "print(f\"F1 Score: {f1_xgb}\")\n",
    "print(f\"RoC-AuC: {roc_auc_xgb}\")\n",
    "print(f\"Confusion Matrix:\\n{conf_matrix_xgb}\")"
   ]
  },
  {
   "cell_type": "code",
   "execution_count": 30,
   "id": "c5ea2207",
   "metadata": {},
   "outputs": [
    {
     "name": "stdout",
     "output_type": "stream",
     "text": [
      "Fitting 5 folds for each of 18 candidates, totalling 90 fits\n",
      "Best Parameters: {'n_estimators': 100, 'n_jobs': -1, 'replacement': False, 'sampling_strategy': 'auto'}\n",
      "Accuracy: 0.060665362035225046\n",
      "Precision: 0.060665362035225046\n",
      "Recall: 1.0\n",
      "F1 Score: 0.1143911439114391\n",
      "RoC-AuC: 0.8284106182795699\n",
      "Confusion Matrix:\n",
      "[[  0 960]\n",
      " [  0  62]]\n"
     ]
    }
   ],
   "source": [
    "from imblearn.ensemble import EasyEnsembleClassifier\n",
    "from sklearn.model_selection import GridSearchCV\n",
    "from sklearn.metrics import accuracy_score, precision_score, recall_score, f1_score, roc_auc_score, confusion_matrix\n",
    "from sklearn.model_selection import train_test_split\n",
    "\n",
    "# Create EasyEnsembleClassifier\n",
    "easy_ensemble = EasyEnsembleClassifier(random_state=42)\n",
    "\n",
    "# Define the parameter grid for GridSearchCV\n",
    "param_grid = {\n",
    "    'n_estimators': [50, 100, 200],\n",
    "    'sampling_strategy': ['auto', 'majority', 'not minority'],\n",
    "    'replacement': [True, False],\n",
    "    'n_jobs': [-1]\n",
    "}\n",
    "\n",
    "# Perform GridSearchCV with recall as the scoring metric\n",
    "grid_search = GridSearchCV(estimator=easy_ensemble, param_grid=param_grid, scoring='recall', cv=5, verbose=1, n_jobs=-1)\n",
    "\n",
    "# Fit the grid search to the data\n",
    "grid_search.fit(X_train, y_train)\n",
    "\n",
    "# Get the best parameters and best estimator\n",
    "best_params = grid_search.best_params_\n",
    "best_easy_ensemble = grid_search.best_estimator_\n",
    "\n",
    "# Predict probabilities on the test set\n",
    "y_pred_proba = best_easy_ensemble.predict_proba(X_test)\n",
    "\n",
    "best_recall = 0\n",
    "best_threshold = 0.5  # Initial threshold\n",
    "\n",
    "for threshold in np.arange(0.1, 1.0, 0.1):  # Explore thresholds from 0.1 to 0.9\n",
    "    y_pred_recall = (y_pred_proba[:, 1] > threshold).astype(int)\n",
    "    current_recall = recall_score(y_test, y_pred_recall)\n",
    "\n",
    "    # Keep track of the best recall and the corresponding threshold\n",
    "    if current_recall > best_recall:\n",
    "        best_recall = current_recall\n",
    "        best_threshold = threshold\n",
    "\n",
    "# Apply the best threshold\n",
    "y_pred_best_threshold = (y_pred_proba[:, 1] > best_threshold).astype(int)\n",
    "\n",
    "# Calculate metrics with the best threshold\n",
    "accuracy = accuracy_score(y_test, y_pred_best_threshold)\n",
    "precision = precision_score(y_test, y_pred_best_threshold)\n",
    "recall = recall_score(y_test, y_pred_best_threshold)\n",
    "f1 = f1_score(y_test, y_pred_best_threshold)\n",
    "roc_auc = roc_auc_score(y_test, y_pred_proba[:, 1])\n",
    "conf_matrix = confusion_matrix(y_test, y_pred_best_threshold)\n",
    "\n",
    "# Print the metrics\n",
    "print(f\"Best Parameters: {best_params}\")\n",
    "print(f\"Accuracy: {accuracy}\")\n",
    "print(f\"Precision: {precision}\")\n",
    "print(f\"Recall: {recall}\")\n",
    "print(f\"F1 Score: {f1}\")\n",
    "print(f\"RoC-AuC: {roc_auc}\")\n",
    "print(f\"Confusion Matrix:\\n{conf_matrix}\")"
   ]
  },
  {
   "cell_type": "code",
   "execution_count": 31,
   "id": "ee13b408",
   "metadata": {},
   "outputs": [
    {
     "name": "stdout",
     "output_type": "stream",
     "text": [
      "Accuracy: 0.7318982387475538\n",
      "Precision: 0.16025641025641027\n",
      "Recall: 0.8064516129032258\n",
      "F1 Score: 0.26737967914438504\n",
      "RoC-AuC: 0.837584005376344\n",
      "Confusion Matrix:\n",
      "[[698 262]\n",
      " [ 12  50]]\n"
     ]
    }
   ],
   "source": [
    "from sklearn.naive_bayes import GaussianNB\n",
    "from sklearn.model_selection import GridSearchCV\n",
    "from sklearn.metrics import accuracy_score, precision_score, recall_score, f1_score, roc_auc_score, confusion_matrix\n",
    "from sklearn.model_selection import train_test_split\n",
    "\n",
    "\n",
    "# Create Gaussian Naive Bayes Classifier\n",
    "naive_bayes = GaussianNB()\n",
    "\n",
    "# Fit the classifier to the training data\n",
    "naive_bayes.fit(X_train, y_train)\n",
    "\n",
    "# Predict probabilities on the test set\n",
    "y_pred_proba = naive_bayes.predict_proba(X_test)\n",
    "\n",
    "best_recall = 0\n",
    "best_threshold = 0.5  # Initial threshold\n",
    "\n",
    "for threshold in np.arange(0.1, 1.0, 0.1):  # Explore thresholds from 0.1 to 0.9\n",
    "    y_pred_recall = (y_pred_proba[:, 1] > threshold).astype(int)\n",
    "    current_recall = recall_score(y_test, y_pred_recall)\n",
    "\n",
    "    # Keep track of the best recall and the corresponding threshold\n",
    "    if current_recall > best_recall:\n",
    "        best_recall = current_recall\n",
    "        best_threshold = threshold\n",
    "\n",
    "# Apply the best threshold\n",
    "y_pred_best_threshold = (y_pred_proba[:, 1] > best_threshold).astype(int)\n",
    "\n",
    "# Calculate metrics with the best threshold\n",
    "accuracy = accuracy_score(y_test, y_pred_best_threshold)\n",
    "precision = precision_score(y_test, y_pred_best_threshold)\n",
    "recall = recall_score(y_test, y_pred_best_threshold)\n",
    "f1 = f1_score(y_test, y_pred_best_threshold)\n",
    "roc_auc = roc_auc_score(y_test, y_pred_proba[:, 1])\n",
    "conf_matrix = confusion_matrix(y_test, y_pred_best_threshold)\n",
    "\n",
    "# Print the metrics\n",
    "print(f\"Accuracy: {accuracy}\")\n",
    "print(f\"Precision: {precision}\")\n",
    "print(f\"Recall: {recall}\")\n",
    "print(f\"F1 Score: {f1}\")\n",
    "print(f\"RoC-AuC: {roc_auc}\")\n",
    "print(f\"Confusion Matrix:\\n{conf_matrix}\")"
   ]
  }
 ],
 "metadata": {
  "kernelspec": {
   "display_name": "Python 3 (ipykernel)",
   "language": "python",
   "name": "python3"
  },
  "language_info": {
   "codemirror_mode": {
    "name": "ipython",
    "version": 3
   },
   "file_extension": ".py",
   "mimetype": "text/x-python",
   "name": "python",
   "nbconvert_exporter": "python",
   "pygments_lexer": "ipython3",
   "version": "3.11.4"
  }
 },
 "nbformat": 4,
 "nbformat_minor": 5
}
